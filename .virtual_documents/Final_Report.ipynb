#load the packages needed
library(tidyverse)
library(repr)
library(tidymodels)
library(readxl)
library(httr)
library(jsonlite)
library(ggplot2)
library(GGally)
library(forcats)

#set to show 10 rows of data
options(repr.matrix.max.rows = 10)


# read in data
# unzip the data file and use the read_csv2 function to read it into R
# mutate the column y as it's our factor for classification.
BANK_URL = "https://archive.ics.uci.edu/ml/machine-learning-databases/00222/bank.zip"
GET(BANK_URL, write_disk(bk <- tempfile(fileext = ".zip")))

bank_data <- read_csv2(unz(bk, "bank.csv")) %>%
            mutate(y = as_factor(y))
bank_data

# remove the temporary file
unlink(bk)

# The data set was created in a tidy format so there was no need to wrangle it. 


# To avoid an overwhelming amount of unnecessary data, we select only the four columns related to our question.
bank_data_selected <- bank_data %>%
    select(age, balance, campaign,y)
bank_data_selected


summary(bank_data_selected)


# set the seed as we want to make sure the results are reproducible.
set.seed(42)

# We split the data into training sets and testing sets as we only want to train the training data for future predictions
# split data portion: 60% for training, 40% for testing, see methods for reasoning
bank_split <- initial_split(bank_data_selected, prop = 0.6, strata = y)
bank_train <- training(bank_split)
bank_test <- testing(bank_split)


# make a matrix of plots with our data set to get a general pattern among the attributs that our project concerns about
options(repr.plot.width = 18, repr.plot.height = 12)
ggpairs(bank_train, aes(color = y), title = "Exploratory Data Analysis Summary Plot",
           lower = list(continuous = "points"), legends = T)+
    theme(text = element_text(size = 20))


# summarize data about age 
bank_age <- bank_train %>%
    group_by(age,y) %>%
    summarise(n = n())
bank_age


# plot the data as bar chart for better comparison
options(repr.plot.width = 15, repr.plot.height = 10)

age_bar_fill <- bank_age %>%
ggplot(aes(x = age, y = n, fill = y))+
geom_bar(stat = "identity", position = "fill")+
labs(x = "Age", y = "Proportion", 
     fill = "Subscribed to a term deposit?",
    title = "Proportion of Agreement to a term deposit for People with different Ages")+
theme(text = element_text(size = 20),legend.position = c(0.5, 0.75))+
scale_x_continuous(breaks = seq(0, 100, by = 2))+
geom_hline(yintercept = 0.5, linetype = "dashed", size = 1)
age_bar_fill


# summarize data about balance
bank_balance <- bank_train %>%
    group_by(balance,y) %>%
    summarize(balance,y)
bank_balance


# plot the data as histogram for clearer comparison
options(repr.plot.width = 13, repr.plot.height = 8)

balance_histogram <- bank_balance %>%
    ggplot(aes(x = balance, fill = y))+
    geom_histogram(aes(x = balance, fill = y))+
    labs(x = "Balance", fill = "Subscribed to a term deposit?", 
         title = "Count of Agreement to a term deposit for People with different Balance")+
    theme(text = element_text(size = 20), legend.position = c(0.5, 0.75))+
    facet_grid(.~y)
balance_histogram


# summarize data about campaigns
bank_campaign <- bank_train %>%
    group_by(campaign,y) %>%
    summarise(n = n())
bank_campaign


# create violin plot to visualize the distrubtion and density of the campaign attribute
campaign_violin <- bank_campaign %>%
    ggplot(aes(x ="",y= campaign, fill= y))+ 
    geom_violin(adjust = .5, draw_quantiles = c(0.25, 0.5, 0.75))+
    labs(x = "Campaign", y = "Count", fill = "Subscribed to a term deposit?", 
         title = "Distribution of number of contacts")+
    theme(text = element_text(size = 20), legend.position = c(0.75, 0.75))+
    scale_y_continuous(breaks = seq(0, 60, by = 5))+
    geom_hline(yintercept = 20, linetype = "dashed")
campaign_violin


set.seed(42)
# create recipe and perform data standardization
bank_recipe <- recipe(y ~ ., data = bank_train) %>%
    step_scale(all_predictors()) %>%
    step_center(all_predictors()) %>%
    step_upsample(y, over_ratio = 1, skip = TRUE)

# cross-validation
# create specification
bank_tune <- nearest_neighbor(weight_func = "rectangular", neighbors = tune()) %>%
  set_engine("kknn") %>%
  set_mode("classification")

# create a 5 folds cross-validation 
# as larger amount of data leads to longer processing time, we do 5 folds to decrease processing time
new_bank_vfold <- vfold_cv(bank_train, v = 5, strata = y) 

# create a dataframe that the neighbors variable containing each value from K = 1 - 15
k_vals <- tibble(neighbors = seq(1:15))

# evaluate classifier's accuracy
bank_results <- workflow() %>%
      add_recipe(bank_recipe) %>%
      add_model(bank_tune) %>%
      tune_grid(resamples = new_bank_vfold, grid = k_vals) %>%
        collect_metrics() %>%
        filter(.metric == "accuracy")
bank_results


# plot of accuracy with different numbers of neighbours for parameter value selection (i.e. K)
options(repr.plot.width = 10, repr.plot.height = 8)
cross_val_plot <- ggplot(bank_results, aes(x = neighbors, y = mean))+
      geom_point() +
      geom_line() +
      labs(x = "Number of Neighbors", y = "Accuracy Estimate") +
      scale_x_continuous(breaks = seq(0, 15, by = 1)) + # adjusting the x-axis
        ggtitle("Plot of estimated accuracy versus the number of neighbours") + 
        theme(text = element_text(size = 20))
cross_val_plot


set.seed(42)
# re-train specification with choosen K
knn_spec <- nearest_neighbor(weight_func = "rectangular", neighbors = 3) %>%
      set_engine("kknn") %>%
     set_mode("classification")

# fit the k-nn model
knn_fit <- workflow() %>%
      add_recipe(bank_recipe) %>%
      add_model(knn_spec) %>%
      fit(data = bank_train)

# test the model with testing set and evaluate accuracy of the model
bank_test_predictions <- predict(knn_fit, bank_test) %>%
      bind_cols(bank_test) %>%
      metrics(truth = y, estimate = .pred_class)
bank_test_predictions

bank_test_conf_met <- predict(knn_fit, bank_test) %>%
      bind_cols(bank_test) %>%
     conf_mat(truth = y, estimate = .pred_class)
bank_test_conf_met


# predict a new observation - Case 1
set.seed(42)
new_observation <- tibble(age = 30, balance = 27500, campaign = 15)

new_obs_predicted <- predict(knn_fit, bank_data_selected)

final_knn_fit <- knn_fit %>%
    fit(data = bank_data_selected)

class_prediction <- predict(final_knn_fit, new_observation)
class_prediction


# predict a new observation - Case 2
set.seed(42)
new_observation <- tibble(age = 18, balance = 1700, campaign = 5)

new_obs_predicted <- predict(knn_fit, bank_data_selected)

final_knn_fit <- knn_fit %>%
    fit(data = bank_data_selected)

class_prediction <- predict(final_knn_fit, new_observation)
class_prediction
