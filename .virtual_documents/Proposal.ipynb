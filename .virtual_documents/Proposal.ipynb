library(tidyverse)
library(repr)
library(tidymodels)
library(readxl)
library(httr)
library(jsonlite)
library(ggplot2)
library(GGally)

#load the packages needed


BANK_URL = "https://archive.ics.uci.edu/ml/machine-learning-databases/00222/bank-additional.zip"
GET(BANK_URL, write_disk(bk <- tempfile(fileext = ".zip")))

bank_data <- read_csv2(unz(bk, "bank-additional/bank-additional-full.csv"))%>%
            mutate(y = as_factor(y))
bank_data

unlink(bk)

# We unzip the data file and use the read_delim function to read it into R. 
# we mutate the column y as it's our factor for classification.
# The data set was created in a tidy format so there was no need to wrangle it. 


bank_data_selected <- bank_data %>%
    select(job, marital, housing,y)
bank_data_selected

# To avoid an overwhelming amount of unnecessary data, we select the four columns tightly linked to our question.


set.seed(42)
bank_split <- initial_split(bank_data_selected, prop = 0.7, strata = y)
bank_train <- training(bank_split)
bank_test <- testing(bank_split)

# we set the seed as we want to make sure the results are reproducible.
# We split the data into training sets and testing sets as we only want to train the training data for future predictions.


# summarize data about marital status
maritall <- bank_train %>%
group_by(marital,y) %>%
summarise(n = n())
maritall

# plot the data as bar chart for better comparison
options(repr.plot.width = 20, repr.plot.height = 8)

marital_bar <- maritall %>%
ggplot(aes(x = marital, y = n, fill = y))+
geom_bar(stat = "identity", position = "fill")+
labs(x = "Marital Condition", y = "Proportion", 
     fill = "Subscribed to a term deposit?")+
theme(text = element_text(size = 22))+
coord_flip() +
ggtitle("Proportion of Agreement to a term deposit for People with different Marital Conditions")

marital_bar


# summarize data about housing loans
housingg <- bank_train %>%
group_by(housing,y) %>%
summarise(n = n())
housingg

# plot the data as bar chart for better comparison
options(repr.plot.width = 20, repr.plot.height = 8)

housingg_bar <- housingg %>%
ggplot(aes(x = housing, y = n, fill = y))+
geom_bar(stat = "identity", position = "fill")+
labs(x = "Housing Loan Condition", y = "Proportion", 
     fill = "Subscribed to a term deposit?")+
theme(text = element_text(size = 22))+
coord_flip() +
ggtitle("Proportion of Agreement to a term deposit for People WITH or WITHOUT housing loan")

housingg_bar


# summarize data about occupations
jobs <- bank_train %>%
group_by(job,y) %>%
summarise(n = n())
jobs

# plot the data as bar chart for better comparison
options(repr.plot.width = 20, repr.plot.height = 10)

housingg_bar <- jobs %>%
ggplot(aes(x = job, y = n, fill = y))+
geom_bar(stat = "identity", position = "fill")+
labs(x = "Jobs", y = "Proportion", 
     fill = "Subscribed to a term deposit?")+
theme(text = element_text(size = 23))+
coord_flip() +
ggtitle("Proportion of Agreement to a term deposit for People with different occupations")

housingg_bar
